{
 "cells": [
  {
   "cell_type": "code",
   "execution_count": 1,
   "metadata": {},
   "outputs": [],
   "source": [
    "import torch\n",
    "import torch.nn as nn\n",
    "from torch.utils.data import Dataset, DataLoader\n",
    "from torch.nn import Linear, ReLU, ELU, Sequential, Conv1d, MaxPool1d, Module, BatchNorm1d, AvgPool1d, Dropout\n",
    "from torch.nn import Conv2d, MaxPool2d, BatchNorm2d, AvgPool2d\n",
    "import torch.nn.functional as F\n",
    "import torch.optim as optim\n",
    "\n",
    "import os\n",
    "from tqdm import tqdm\n",
    "import numpy as np\n",
    "import pandas as pd\n",
    "import matplotlib.pyplot as plt\n",
    "from datetime import datetime\n",
    "from scipy.signal import find_peaks\n",
    "\n",
    "from utils import *\n",
    "from CNNRES_Monitor_Dilated3_hrrr import CNNRES_Monitor_Dilated3"
   ]
  },
  {
   "cell_type": "code",
   "execution_count": 2,
   "metadata": {},
   "outputs": [],
   "source": [
    "# Where the tensor is saved\n",
    "tensor_dir = '/TENSOR_DIR'"
   ]
  },
  {
   "cell_type": "markdown",
   "metadata": {},
   "source": [
    "# Make sure to run on GPU"
   ]
  },
  {
   "cell_type": "code",
   "execution_count": 2,
   "metadata": {},
   "outputs": [
    {
     "name": "stdout",
     "output_type": "stream",
     "text": [
      "True\n",
      "Using GPU\n"
     ]
    }
   ],
   "source": [
    "# For reproducibility\n",
    "torch.manual_seed(1234)\n",
    "\n",
    "# Detect if we have a GPU available\n",
    "print(torch.cuda.is_available())\n",
    "device = torch.device(\"cuda:0\" if torch.cuda.is_available() else \"cpu\")\n",
    "if torch.cuda.is_available():\n",
    "    print(\"Using GPU\")\n",
    "else:\n",
    "    print(\"Using CPU\")"
   ]
  },
  {
   "cell_type": "code",
   "execution_count": 3,
   "metadata": {},
   "outputs": [],
   "source": [
    "class generate_args:\n",
    "    def __init__(self):\n",
    "        self.lr = 5e-5\n",
    "        self.bsz = 32\n",
    "        self.seed = random.randint(1, 100)\n",
    "        self.num_epoch = 200\n",
    "        self.early_stop = 50\n",
    "        self.only_evaluate = False\n",
    "        self.dropout = 0.0\n",
    "        self.decay_rate = 0.9\n",
    "        self.weight_decay = 0.0005\n",
    "        self.rr_weight = 1.25\n",
    "        self.device = torch.device(\"cuda\" if torch.cuda.is_available() else \"cpu\")\n",
    "        self.n_gpu = torch.cuda.device_count()\n",
    "        \n",
    "args = generate_args()"
   ]
  },
  {
   "cell_type": "markdown",
   "metadata": {},
   "source": [
    "# Load data"
   ]
  },
  {
   "cell_type": "code",
   "execution_count": 4,
   "metadata": {},
   "outputs": [
    {
     "name": "stdout",
     "output_type": "stream",
     "text": [
      "Num clips: 2732\n"
     ]
    }
   ],
   "source": [
    "df = pd.read_csv('./2_use_df.csv')\n",
    "\n",
    "print(f'Num clips: {len(df)}')"
   ]
  },
  {
   "cell_type": "code",
   "execution_count": 5,
   "metadata": {},
   "outputs": [],
   "source": [
    "biopac = torch.load(tensor_dir+'/biopac_use.pt')\n",
    "biopac_peak = torch.load(tensor_dir+'/biopac_peak_use.pt')\n",
    "doppler = torch.load(tensor_dir+'/doppler_use.pt')\n",
    "\n",
    "# If previously already created biopac_peak_expand then skip the next two cells and load this in directly\n",
    "# biopac_peak_expand = torch.load(tensor_dir+'/biopac_peak_expand_use.pt')"
   ]
  },
  {
   "cell_type": "code",
   "execution_count": 6,
   "metadata": {},
   "outputs": [
    {
     "name": "stderr",
     "output_type": "stream",
     "text": [
      "100%|██████████| 95413/95413 [00:04<00:00, 22962.25it/s]\n"
     ]
    }
   ],
   "source": [
    "biopac_peak_expand = torch.zeros_like(biopac_peak)\n",
    "expand_time = 50 # expand each heartbeat to 400ms\n",
    "latency = -15\n",
    "\n",
    "peaks = torch.nonzero(biopac_peak)\n",
    "for [i,j] in tqdm(peaks):\n",
    "    biopac_peak_expand[i,j+latency:j+expand_time+latency]=1"
   ]
  },
  {
   "cell_type": "code",
   "execution_count": 7,
   "metadata": {},
   "outputs": [],
   "source": [
    "torch.save(biopac_peak_expand, tensor_dir+'/biopac_peak_expand_use.pt')"
   ]
  },
  {
   "cell_type": "markdown",
   "metadata": {},
   "source": [
    "# Amplification"
   ]
  },
  {
   "cell_type": "code",
   "execution_count": 8,
   "metadata": {},
   "outputs": [],
   "source": [
    "def single_hr_cycle(target_hr, \n",
    "                    dt=1/1000, \n",
    "                    omega1=30, \n",
    "                    omega2=40, \n",
    "                    length=299):\n",
    "    T = 60 / target_hr\n",
    "    t = np.linspace(0, T, int(T/dt), endpoint=False)\n",
    "    omega1 /= T\n",
    "    omega2 /= T\n",
    "    gamma = 1\n",
    "    b = T/2\n",
    "    c = T*1e-3\n",
    "    pulse = np.exp(-(t-b)**2./c)\n",
    "    g_shape = np.cos(omega1*t + gamma*np.sin(omega2*t));\n",
    "    w = g_shape * pulse\n",
    "    # normalize\n",
    "    w = w/w.sum();\n",
    "    if abs(min(w)) > abs(max(w)):\n",
    "        w = -w\n",
    "    n = len(w)\n",
    "    if n < length:\n",
    "        w1 = np.zeros(length)\n",
    "        start = (length - n) // 2\n",
    "        w1[start:start+n] = w\n",
    "    else:\n",
    "        start = (n-length)//2\n",
    "        w1 = w[start:start+length]\n",
    "    return torch.tensor(w1)"
   ]
  },
  {
   "cell_type": "code",
   "execution_count": 9,
   "metadata": {},
   "outputs": [],
   "source": [
    "length = 199\n",
    "\n",
    "w_40 = single_hr_cycle(40,length=length)\n",
    "w_60 = single_hr_cycle(60,length=length)\n",
    "w_80 = single_hr_cycle(80,length=length)\n",
    "w_100 = single_hr_cycle(100,length=length)\n",
    "\n",
    "w_filter = torch.zeros(8,2,length)\n",
    "w_filter[:4,0,:] = torch.stack([w_40,w_60,w_80,w_100])\n",
    "w_filter[4:,1,:] = torch.stack([w_40,w_60,w_80,w_100])\n",
    "w_filter = w_filter.float().to(args.device)"
   ]
  },
  {
   "cell_type": "code",
   "execution_count": 10,
   "metadata": {},
   "outputs": [],
   "source": [
    "def w_filter_conv(iq):\n",
    "    iq_conv = F.conv1d(iq.view(1,2,iq.shape[1]),w_filter,padding=w_filter.shape[2]//2).squeeze()\n",
    "    iq = torch.cat([iq,iq_conv])\n",
    "    return iq"
   ]
  },
  {
   "cell_type": "code",
   "execution_count": 11,
   "metadata": {},
   "outputs": [],
   "source": [
    "class BiopacDataset_NCC(Dataset):\n",
    "    def __init__(self, biopac, biopac_peak_expand, doppler):\n",
    "        self.biopac = biopac\n",
    "        self.biopac_peak = biopac_peak_expand\n",
    "        self.doppler = doppler\n",
    "        \n",
    "        self.bp_fs = 250\n",
    "        self.dp_fs = 1000\n",
    "        \n",
    "        self.seconds = 15\n",
    "        \n",
    "        self.seg_n = 10\n",
    "        self.clip_n = biopac.shape[0]\n",
    "        \n",
    "        self.generator = torch.Generator().manual_seed(42)\n",
    "        self.start_idx = torch.randint(0,self.doppler.shape[2]-self.seconds*self.dp_fs,(self.clip_n * self.seg_n,1),generator=self.generator)\n",
    "\n",
    "    def __len__(self):\n",
    "        return int(self.clip_n * self.seg_n)\n",
    "\n",
    "    def __getitem__(self, idx):\n",
    "        biopac_idx = idx // self.seg_n\n",
    "        seg_idx = self.start_idx[idx]\n",
    "        biopac_seg_idx = seg_idx // 4\n",
    "        \n",
    "        dp_idx = idx // self.seg_n\n",
    "        dp = self.doppler[dp_idx,:,seg_idx:seg_idx+self.dp_fs*self.seconds]\n",
    "                \n",
    "        bp_original = self.biopac[biopac_idx, biopac_seg_idx:biopac_seg_idx+self.bp_fs*self.seconds]\n",
    "        bp_peak = self.biopac_peak[biopac_idx, biopac_seg_idx:biopac_seg_idx+self.bp_fs*self.seconds]\n",
    "        bp = bp_peak[::25].to(device)\n",
    "        \n",
    "        dp = dp.view(2,self.dp_fs*self.seconds).to(device)\n",
    "        \n",
    "        # rule out power resets\n",
    "        dp[dp>1900] = 0\n",
    "        \n",
    "        # make data positive\n",
    "        for i in [0,1]:\n",
    "            dp[i] = dp[i] - dp[i].min()\n",
    "        dp = dp / 100\n",
    "            \n",
    "        # cross correlation with standard pulse shape\n",
    "        dp_conv = F.conv1d(dp.unsqueeze(0),w_filter,padding=w_filter.shape[2]//2).squeeze()\n",
    "        dp_conv = torch.cat([dp,dp_conv]).to(device)\n",
    "        \n",
    "        # return data as a list\n",
    "        return [dp_conv, bp, bp_original, biopac_idx]"
   ]
  },
  {
   "cell_type": "markdown",
   "metadata": {},
   "source": [
    "# Encoder decoder"
   ]
  },
  {
   "cell_type": "code",
   "execution_count": 12,
   "metadata": {},
   "outputs": [],
   "source": [
    "class Trainer_bin:\n",
    "    def __init__(self, model, hr, hr_peak, dp, model_name):\n",
    "        \n",
    "        self.device = torch.device(\"cuda\" if torch.cuda.is_available() else \"cpu\")\n",
    "        self.model = model.to(self.device)\n",
    "        self.df = df\n",
    "\n",
    "        self.dataset = BiopacDataset_NCC(hr, hr_peak, dp)\n",
    "        n = len(hr)\n",
    "        split = [0.8, 0.1, 0.1]\n",
    "\n",
    "        split_n = lambda x,n: [int(x[0]*n), n-int(x[2]*n)]\n",
    "        split = split_n(split,n)\n",
    "        print('Train, validation, test split: ', split)\n",
    "        generator1 = torch.Generator().manual_seed(42)\n",
    "        idx = torch.randperm(len(hr_rr),generator=generator1)\n",
    "        self.train_set = self.RadarDataset(hr[idx[:split[0]]],hr_peak[idx[:split[0]]], dp[idx[:split[0]]])\n",
    "        self.val_set = self.RadarDataset(hr[idx[split[0]:split[1]]],hr_peak[idx[split[0]:split[1]]], dp[idx[split[0]:split[1]]])\n",
    "        self.test_set = self.RadarDataset(hr[idx[split[1]:]],hr_peak[idx[split[1]:]], dp[idx[split[1]:]])\n",
    "        \n",
    "        self.train_loss = []\n",
    "        self.val_loss = []\n",
    "        self.train_MSE = []\n",
    "        self.val_MSE = []\n",
    "        self.train_acc = []\n",
    "        self.val_acc = []\n",
    "        self.model_name = model_name\n",
    "        self.save_dir ='./model'\n",
    "        self.epoch_count = 0\n",
    "        self.criterion = nn.BCEWithLogitsLoss(reduction='sum')\n",
    "        self.best_epoch = 0\n",
    "        self.threshold = 0.5\n",
    "\n",
    "    def train(self, \n",
    "              batch_size=64, \n",
    "              num_epochs=10, \n",
    "              learning_rate=0.001, \n",
    "              early_stop=50, \n",
    "              threshold=0.5, \n",
    "              start_epoch=None, \n",
    "              weight_decay=0\n",
    "             ):\n",
    "        \n",
    "        self.batch_size = batch_size\n",
    "        self.num_epochs = num_epochs\n",
    "        self.learning_rate = learning_rate\n",
    "        self.optimizer = optim.Adam(self.model.parameters(), lr=learning_rate, weight_decay=weight_decay)\n",
    "        self.lr_scheduler = torch.optim.lr_scheduler.StepLR(optimizer=self.optimizer, step_size=20, gamma=0.9)\n",
    "        \n",
    "        if start_epoch != None:\n",
    "            self.epoch_count = start_epoch\n",
    "        \n",
    "        train_loader = DataLoader(self.train_set, batch_size=self.batch_size, shuffle=True)\n",
    "        val_loader = DataLoader(self.val_set, batch_size=self.batch_size, shuffle=False)\n",
    "\n",
    "        for epoch in range(self.num_epochs):\n",
    "            self.model.train()\n",
    "            train_loss = 0.0\n",
    "            train_MSE = 0.0\n",
    "            train_acc = 0.0\n",
    "            train_baseline = 0.0\n",
    "            \n",
    "            print(f\"Epoch {self.epoch_count}\")\n",
    "            val_loss, val_acc, val_baseline = self.evaluate(val_loader)\n",
    "            self.val_loss.append(val_loss)\n",
    "            self.val_acc.append(val_acc)\n",
    "            print(f\"Val Loss: {val_loss:.4f}, Val acc: {val_acc:.4f}, Baseline: {1-val_baseline:.4f}\")\n",
    "            \n",
    "            if val_acc == max(self.val_acc):\n",
    "                self.save_model(self.epoch_count)\n",
    "                self.best_epoch = self.epoch_count\n",
    "            if self.epoch_count - self.best_epoch > early_stop:\n",
    "                return\n",
    "\n",
    "            for (iq,hr,_,_) in tqdm(train_loader, desc=f\"Epoch {self.epoch_count+1}\", total=len(train_loader)):\n",
    "                \n",
    "                self.optimizer.zero_grad()\n",
    "                outputs = self.model(iq).squeeze().float()\n",
    "                loss = self.criterion(outputs, hr.float())\n",
    "                loss.backward()\n",
    "                self.optimizer.step()\n",
    "                train_loss += loss.item()\n",
    "                \n",
    "                outputs = torch.sigmoid(outputs)>= self.threshold\n",
    "                train_acc += (outputs == hr).sum().item() / hr.shape[1]\n",
    "                \n",
    "                train_baseline += hr.sum().item() / hr.shape[1]\n",
    "                \n",
    "            train_loss /= len(self.train_set)\n",
    "            train_acc /= len(self.train_set)\n",
    "            train_baseline /= len(self.train_set)\n",
    "            self.train_loss.append(train_loss)\n",
    "            self.train_acc.append(train_acc)\n",
    "            \n",
    "            self.lr_scheduler.step()\n",
    "            self.epoch_count += 1\n",
    "            \n",
    "            print(f\"Train Loss: {train_loss:.4f}, Train acc: {train_acc:.4f}, Baseline: {1-train_baseline:.4f}\")\n",
    "\n",
    "    def evaluate(self, data_loader):\n",
    "        self.model.eval()\n",
    "        val_loss = 0.0\n",
    "        val_MSE = 0.0\n",
    "        val_acc = 0.0\n",
    "        baseline = 0.0\n",
    "\n",
    "        with torch.no_grad():\n",
    "            for (iq,hr,_,_) in tqdm(data_loader, desc=f\"Evaluating...\", total=len(data_loader)):\n",
    "\n",
    "                outputs = self.model(iq).squeeze().float()\n",
    "                loss = self.criterion(outputs, hr.float())\n",
    "                val_loss += loss.item()\n",
    "                \n",
    "                outputs = torch.sigmoid(outputs)>= self.threshold\n",
    "                val_acc += (outputs == hr).sum().item() / hr.shape[1]\n",
    "                baseline += hr.sum().item() / hr.shape[1]\n",
    "                \n",
    "        val_loss /= len(data_loader.dataset)\n",
    "        val_acc /= len(data_loader.dataset)\n",
    "        baseline /= len(data_loader.dataset)\n",
    "\n",
    "        return val_loss, val_acc, baseline\n",
    "\n",
    "    def save_model(self, epoch):\n",
    "        save_path = os.path.join(self.save_dir, f\"{self.model_name}.pt\")\n",
    "        torch.save(self.model.state_dict(), save_path)\n",
    "        print(f\"Model saved at {save_path}, Epoch {epoch}.\")\n",
    "        \n",
    "    def calc_confusion(self, data_loader):\n",
    "        self.model.eval()\n",
    "        TP = 0\n",
    "        FP = 0\n",
    "        TN = 0\n",
    "        FN = 0\n",
    "\n",
    "        with torch.no_grad():\n",
    "            for (iq,hr,_,_) in tqdm(data_loader, desc=f\"Calculating confusion matrix...\", total=len(data_loader)):\n",
    "\n",
    "                outputs = self.model(iq).squeeze().float()\n",
    "                outputs = torch.sigmoid(outputs)>= self.threshold\n",
    "                TP += ((outputs == hr) & (hr == 1)).sum().item()\n",
    "                FP += ((outputs != hr) & (hr == 0)).sum().item()\n",
    "                TN += ((outputs == hr) & (hr == 0)).sum().item()\n",
    "                FN += ((outputs != hr) & (hr == 1)).sum().item()\n",
    "\n",
    "        return {'TP':TP, 'FP':FP, 'TN':TN, 'FN':FN}\n",
    "    \n",
    "    def approx_correct(self, data_loader):\n",
    "        self.model.eval()\n",
    "        total_peaks = 0\n",
    "        num_peaks_diff = 0\n",
    "        within_window = 0\n",
    "\n",
    "        with torch.no_grad():\n",
    "            for (iq,hr,_,_) in tqdm(data_loader, desc=f\"Checking peaks...\", total=len(data_loader)):\n",
    "\n",
    "                outputs = self.model(iq).squeeze().float()\n",
    "                outputs = torch.sigmoid(outputs)>= self.threshold\n",
    "                for i in range(outputs.shape[0]):\n",
    "                    hr_peaks = find_peaks(hr[i].cpu(),distance=2)[0]\n",
    "                    output_peaks = find_peaks(outputs[i].cpu(),distance=2)[0]\n",
    "                    total_peaks += len(hr_peaks)\n",
    "                    num_peaks_diff += np.abs(len(hr_peaks) - len(output_peaks))\n",
    "                    for j in hr_peaks:\n",
    "                        if j in output_peaks:\n",
    "                            within_window += 1\n",
    "                        elif j+1 in output_peaks:\n",
    "                            within_window += 1\n",
    "                        elif j-1 in output_peaks:\n",
    "                            within_window += 1\n",
    "        \n",
    "        num_peaks_diff /= len(data_loader.dataset)\n",
    "        within_window /= total_peaks\n",
    "        \n",
    "        return {'total_peaks':total_peaks, 'num_peak_diff': num_peaks_diff, 'within_3ms':within_window}"
   ]
  },
  {
   "cell_type": "code",
   "execution_count": 13,
   "metadata": {},
   "outputs": [],
   "source": [
    "class EncoderDecoderRadarModel(nn.Module):\n",
    "    def __init__(self, resnet, num_input_channels, num_output_channels):\n",
    "        super(EncoderDecoderRadarModel, self).__init__()\n",
    "        \n",
    "        # Encoder: 1D ResNet-18\n",
    "        self.resnet = resnet\n",
    "        \n",
    "        # Decoder: Upsampling layers\n",
    "        self.decoder = nn.Sequential(\n",
    "            nn.ConvTranspose1d(1024, 512, kernel_size=4, stride=2, padding=1),\n",
    "            nn.ReLU(),\n",
    "            nn.ConvTranspose1d(512, 256, kernel_size=4, stride=2, padding=1),\n",
    "            nn.ReLU(),\n",
    "            nn.ConvTranspose1d(256, 128, kernel_size=4, stride=2, padding=1),\n",
    "            nn.ReLU(),\n",
    "            nn.ConvTranspose1d(128, 64, kernel_size=4, stride=2, padding=1),\n",
    "            nn.ReLU(),\n",
    "            nn.ConvTranspose1d(64, 1, kernel_size=4, stride=2, padding=1),\n",
    "            nn.Dropout(0.2),\n",
    "            nn.Linear(3744, 150)\n",
    "        ).to(torch.float)\n",
    "    \n",
    "    def forward(self, inp_comb):\n",
    "        x = self.resnet.conv1_layers(inp_comb)\n",
    "        x = self.resnet.conv2_layers(x)\n",
    "        x1 = x\n",
    "        x = self.resnet.conv5_32(x)\n",
    "        x = self.resnet.conv32to64(self.resnet.maxpool2(self.resnet.batch32(self.resnet.conv5_32(x)+x1)))\n",
    "        x2 = x\n",
    "        x = self.resnet.conv5_64(x)\n",
    "        x = self.resnet.conv64to128(self.resnet.maxpool2(self.resnet.batch64(self.resnet.conv5_64(x)+x2)))\n",
    "        x3 = x \n",
    "        x = self.resnet.conv3_128(x)\n",
    "        x = self.resnet.conv128to256(self.resnet.maxpool2(self.resnet.batch128(self.resnet.conv3_128(x)+x3)))\n",
    "        x4 = x\n",
    "        x = self.resnet.conv3_256(x)\n",
    "        x = self.resnet.conv256to512(self.resnet.maxpool2(self.resnet.batch256(self.resnet.conv3_256(x)+x4)))\n",
    "        x5 = x \n",
    "        x = self.resnet.conv3_512(x)\n",
    "        x = self.resnet.conv512to1024(self.resnet.maxpool2(self.resnet.batch512(self.resnet.conv3_512(x)+x5)))\n",
    "        x6 = x \n",
    "        x = self.resnet.conv3_1024(x)\n",
    "        x = self.resnet.batch1024(self.resnet.conv3_1024(x)+x6)\n",
    "                \n",
    "        # Decoder forward pass\n",
    "        output = self.decoder(x)\n",
    "        return output"
   ]
  },
  {
   "cell_type": "code",
   "execution_count": 14,
   "metadata": {},
   "outputs": [
    {
     "name": "stdout",
     "output_type": "stream",
     "text": [
      "Time:  0811002547\n",
      "Train, validation, test split:  [21856, 2732, 2732]\n"
     ]
    }
   ],
   "source": [
    "now = datetime.now()\n",
    "now = now.strftime(\"%m%d%H%M%S\")\n",
    "print('Time: ',now)\n",
    "\n",
    "model_ed = EncoderDecoderRadarModel(CNNRES_Monitor_Dilated3(args, args.device, in_channels=10), 2, 150)\n",
    "model_ed.load_state_dict(torch.load('./model/encoder_decoder_best.pt'))\n",
    "trainer_ed = Trainer_bin(model_ed, biopac, biopac_peak_expand, doppler,  f'encoder_decoder_{now}')"
   ]
  },
  {
   "cell_type": "code",
   "execution_count": null,
   "metadata": {},
   "outputs": [],
   "source": [
    "trainer_ed.train(batch_size=32, \n",
    "                  num_epochs=1000, \n",
    "                  learning_rate=5e-6, \n",
    "                  early_stop=50, \n",
    "                  threshold=0.5, \n",
    "                  weight_decay=5e-3\n",
    "                 )"
   ]
  },
  {
   "cell_type": "code",
   "execution_count": 16,
   "metadata": {},
   "outputs": [
    {
     "name": "stderr",
     "output_type": "stream",
     "text": [
      "Evaluating...: 100%|██████████| 683/683 [00:29<00:00, 22.91it/s]\n",
      "Evaluating...: 100%|██████████| 86/86 [00:03<00:00, 23.09it/s]\n",
      "Evaluating...: 100%|██████████| 86/86 [00:03<00:00, 23.06it/s]\n"
     ]
    }
   ],
   "source": [
    "_, train_acc, _ = trainer_ed.evaluate(DataLoader(trainer_ed.train_set, batch_size=32))\n",
    "_, val_acc, _ = trainer_ed.evaluate(DataLoader(trainer_ed.val_set, batch_size=32))\n",
    "_, test_acc, _ = trainer_ed.evaluate(DataLoader(trainer_ed.test_set, batch_size=32))"
   ]
  },
  {
   "cell_type": "code",
   "execution_count": 17,
   "metadata": {},
   "outputs": [
    {
     "name": "stdout",
     "output_type": "stream",
     "text": [
      "Train acc: 0.9999740727183992\n",
      "Val acc: 0.8849633967789164\n",
      "Test acc: 0.8872205954123963\n"
     ]
    }
   ],
   "source": [
    "print(f'Train acc: {train_acc}')\n",
    "print(f'Val acc: {val_acc}')\n",
    "print(f'Test acc: {test_acc}')"
   ]
  },
  {
   "cell_type": "code",
   "execution_count": 18,
   "metadata": {},
   "outputs": [
    {
     "name": "stderr",
     "output_type": "stream",
     "text": [
      "Calculating confusion matrix...: 100%|██████████| 683/683 [00:29<00:00, 22.87it/s]\n",
      "Calculating confusion matrix...: 100%|██████████| 86/86 [00:03<00:00, 22.86it/s]\n",
      "Calculating confusion matrix...: 100%|██████████| 86/86 [00:03<00:00, 22.95it/s]\n"
     ]
    }
   ],
   "source": [
    "train_cm = trainer_ed.calc_confusion(DataLoader(trainer_ed.train_set, batch_size=32))\n",
    "val_cm = trainer_ed.calc_confusion(DataLoader(trainer_ed.val_set, batch_size=32))\n",
    "test_cm = trainer_ed.calc_confusion(DataLoader(trainer_ed.test_set, batch_size=32))"
   ]
  },
  {
   "cell_type": "code",
   "execution_count": 19,
   "metadata": {},
   "outputs": [
    {
     "name": "stdout",
     "output_type": "stream",
     "text": [
      "{'TP': 763747, 'FP': 43, 'TN': 2514568, 'FN': 42}\n",
      "{'TP': 66550, 'FP': 18510, 'TN': 296108, 'FN': 28632}\n",
      "{'TP': 66664, 'FP': 18154, 'TN': 296919, 'FN': 28063}\n"
     ]
    }
   ],
   "source": [
    "print(train_cm)\n",
    "print(val_cm)\n",
    "print(test_cm)"
   ]
  },
  {
   "cell_type": "code",
   "execution_count": 20,
   "metadata": {},
   "outputs": [],
   "source": [
    "def calc_precision(cm):\n",
    "    return cm['TP']/(cm['TP']+cm['FP'])\n",
    "def calc_recall(cm):\n",
    "    return cm['TP']/(cm['TP']+cm['FN'])\n",
    "def calc_f1(cm):\n",
    "    precision = calc_precision(cm)\n",
    "    recall = calc_recall(cm)\n",
    "    return 2/(1/precision + 1/recall)\n"
   ]
  },
  {
   "cell_type": "code",
   "execution_count": 21,
   "metadata": {},
   "outputs": [
    {
     "name": "stdout",
     "output_type": "stream",
     "text": [
      "Precision: 99.99%, recall: 99.99%, f1: 99.99%\n",
      "Precision: 78.24%, recall: 69.92%, f1: 73.85%\n",
      "Precision: 78.60%, recall: 70.37%, f1: 74.26%\n"
     ]
    }
   ],
   "source": [
    "for cm in [train_cm, val_cm, test_cm]:\n",
    "    print(f'Precision: {calc_precision(cm)*100:.2f}%, recall: {calc_recall(cm)*100:.2f}%, f1: {calc_f1(cm)*100:.2f}%')"
   ]
  },
  {
   "cell_type": "code",
   "execution_count": 22,
   "metadata": {},
   "outputs": [
    {
     "name": "stderr",
     "output_type": "stream",
     "text": [
      "Checking peaks...: 100%|██████████| 86/86 [00:04<00:00, 18.15it/s]\n"
     ]
    }
   ],
   "source": [
    "# train_cm = trainer_ed.calc_confusion(DataLoader(trainer_ed.train_set, batch_size=32))\n",
    "# val_cm = trainer_ed.calc_confusion(DataLoader(trainer_ed.val_set, batch_size=32))\n",
    "test_cm = trainer_ed.approx_correct(DataLoader(trainer_ed.test_set, batch_size=32))"
   ]
  },
  {
   "cell_type": "code",
   "execution_count": 23,
   "metadata": {},
   "outputs": [
    {
     "data": {
      "text/plain": [
       "{'total_peaks': 46348,\n",
       " 'num_peak_diff': 1.136896046852123,\n",
       " 'within_3ms': 0.8742124795028912}"
      ]
     },
     "execution_count": 23,
     "metadata": {},
     "output_type": "execute_result"
    }
   ],
   "source": [
    "test_cm"
   ]
  },
  {
   "cell_type": "code",
   "execution_count": 24,
   "metadata": {},
   "outputs": [],
   "source": [
    "for i in range(1000,2700):\n",
    "    idx = trainer_ed.test_set[i][3]\n",
    "    action = df.loc[idx,'action_clean']\n",
    "    if action == 'Walk in circle':\n",
    "        break"
   ]
  },
  {
   "cell_type": "code",
   "execution_count": 25,
   "metadata": {},
   "outputs": [
    {
     "data": {
      "text/plain": [
       "1048"
      ]
     },
     "execution_count": 25,
     "metadata": {},
     "output_type": "execute_result"
    }
   ],
   "source": [
    "i"
   ]
  },
  {
   "cell_type": "code",
   "execution_count": 26,
   "metadata": {},
   "outputs": [
    {
     "name": "stdout",
     "output_type": "stream",
     "text": [
      "Lie\n"
     ]
    },
    {
     "data": {
      "text/plain": [
       "(0.0, 15.0)"
      ]
     },
     "execution_count": 26,
     "metadata": {},
     "output_type": "execute_result"
    },
    {
     "data": {
      "image/png": "[encoded data removed]",
      "text/plain": [
       "<Figure size 1300x200 with 2 Axes>"
      ]
     },
     "metadata": {},
     "output_type": "display_data"
    }
   ],
   "source": [
    "model_ed.eval()\n",
    "i = 100\n",
    "\n",
    "target = trainer_ed.test_set[i][1]\n",
    "target_bp = trainer_ed.test_set[i][2]\n",
    "\n",
    "with torch.no_grad():\n",
    "    datapoint = trainer_ed.test_set[i][0].unsqueeze(0)\n",
    "    idx = trainer_ed.test_set[i][3]\n",
    "    action = df.loc[idx,'action_clean']\n",
    "    print(action)\n",
    "    pred = model_ed(datapoint)\n",
    "    pred = torch.sigmoid(pred)\n",
    "    \n",
    "fig,ax=plt.subplots(1,2,figsize=(13,2))\n",
    "\n",
    "# ax[0].plot(np.arange(0,15,1/250),target_bp, label='Original ECG', color='black')\n",
    "ax[0].plot(np.arange(0,15,1/1000),(datapoint[0,0]-datapoint[0,0].mean()).cpu(),label='I-Channel')\n",
    "ax[0].plot(np.arange(0,15,1/1000),(datapoint[0,1]-datapoint[0,1].mean()).cpu(),label='Q-Channel')\n",
    "ax[0].legend(loc='lower right');\n",
    "ax[1].plot(np.arange(0,15,1/250),target_bp, label='Ground Truth ECG', color='black')\n",
    "# ax[1].plot(np.arange(0,15,1/10),target.cpu(),label='Label')\n",
    "ax[1].plot(np.arange(0,15,1/10),pred[0,0].cpu()>0.5,label='Prediction', color='green', alpha=0.7)\n",
    "ax[1].legend(loc='lower right')\n",
    "ax[0].set_title(f'Input Radar Data - Action: {action}')\n",
    "ax[1].set_title(f'ECG & Model Predictions - Action: {action}')\n",
    "ax[0].set_xlabel('Seconds')\n",
    "ax[1].set_xlabel('Seconds')\n",
    "ax[0].set_xlim(0,15)\n",
    "ax[1].set_xlim(0,15)"
   ]
  },
  {
   "cell_type": "code",
   "execution_count": 28,
   "metadata": {},
   "outputs": [],
   "source": [
    "actions = df['action_clean'].unique()\n",
    "actions_count = {action: 0 for action in actions}\n",
    "actions_correct = {action: 0 for action in actions}"
   ]
  },
  {
   "cell_type": "code",
   "execution_count": 29,
   "metadata": {},
   "outputs": [
    {
     "name": "stderr",
     "output_type": "stream",
     "text": [
      "100%|██████████| 2732/2732 [00:31<00:00, 86.06it/s]\n"
     ]
    }
   ],
   "source": [
    "for i in tqdm(range(len(trainer_ed.test_set))):\n",
    "\n",
    "    target = trainer_ed.test_set[i][1]\n",
    "    target_bp = trainer_ed.test_set[i][2]\n",
    "\n",
    "    with torch.no_grad():\n",
    "        datapoint = trainer_ed.test_set[i][0].unsqueeze(0)\n",
    "        idx = trainer_ed.test_set[i][3]\n",
    "        action = df.loc[idx,'action_clean']\n",
    "        pred = model_ed(datapoint)\n",
    "        pred = torch.sigmoid(pred) > 0.5\n",
    "        actions_count[action] += 1\n",
    "        acc = (pred == target).float().mean()\n",
    "        actions_correct[action] += acc"
   ]
  },
  {
   "cell_type": "code",
   "execution_count": 30,
   "metadata": {},
   "outputs": [],
   "source": [
    "actions_acc = {}\n",
    "for action in actions:\n",
    "    actions_acc[action] = actions_correct[action].item() / actions_count[action]\n",
    "    \n",
    "actions_acc = sorted(actions_acc.items(), key=lambda x:x[1])\n",
    "actions = [action[0] for action in actions_acc]\n",
    "actions_acc = [action[1] for action in actions_acc]"
   ]
  },
  {
   "cell_type": "code",
   "execution_count": 32,
   "metadata": {},
   "outputs": [],
   "source": [
    "actions = ['Unknown',\n",
    " 'Walk\\nin circle',\n",
    " 'Stand',\n",
    " 'Sit to\\nStand',\n",
    " 'Walk\\nin Place',\n",
    " 'Sit',\n",
    " 'Jump',\n",
    " 'Crouch',\n",
    " 'Lie',\n",
    " 'Lie with\\nBlanket']"
   ]
  },
  {
   "cell_type": "code",
   "execution_count": 33,
   "metadata": {},
   "outputs": [
    {
     "data": {
      "text/plain": [
       "Text(0.5, 1.0, 'Test set accuracy across different actions')"
      ]
     },
     "execution_count": 33,
     "metadata": {},
     "output_type": "execute_result"
    },
    {
     "data": {
      "image/png": "[encoded data removed]",
      "text/plain": [
       "<Figure size 600x200 with 1 Axes>"
      ]
     },
     "metadata": {},
     "output_type": "display_data"
    }
   ],
   "source": [
    "fig,ax = plt.subplots(figsize=(6,2))\n",
    "\n",
    "ax.bar(actions,actions_acc,color='lightgreen')\n",
    "plt.xticks(rotation=90)\n",
    "for i in range(len(actions_acc)):\n",
    "    ax.text(i, actions_acc[i]+0.01, str(int(actions_acc[i]*100))+'%', ha = 'center')\n",
    "ax.set_ylim(0.7,1)\n",
    "ax.set_title('Test set accuracy across different actions')"
   ]
  },
  {
   "cell_type": "code",
   "execution_count": null,
   "metadata": {},
   "outputs": [],
   "source": []
  }
 ],
 "metadata": {
  "kernelspec": {
   "display_name": "base",
   "language": "python",
   "name": "python3"
  },
  "language_info": {
   "codemirror_mode": {
    "name": "ipython",
    "version": 3
   },
   "file_extension": ".py",
   "mimetype": "text/x-python",
   "name": "python",
   "nbconvert_exporter": "python",
   "pygments_lexer": "ipython3",
   "version": "3.10.9"
  }
 },
 "nbformat": 4,
 "nbformat_minor": 4
}
